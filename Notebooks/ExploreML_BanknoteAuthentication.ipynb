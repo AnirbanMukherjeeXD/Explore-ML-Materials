{
 "cells": [
  {
   "cell_type": "markdown",
   "metadata": {
    "colab_type": "text",
    "id": "view-in-github"
   },
   "source": [
    "<a href=\"https://colab.research.google.com/github/AnirbanMukherjeeXD/Explore-ML-Materials/blob/master/ExploreML_BanknoteAuthentication.ipynb\" target=\"_parent\"><img src=\"https://colab.research.google.com/assets/colab-badge.svg\" alt=\"Open In Colab\"/></a>"
   ]
  },
  {
   "cell_type": "markdown",
   "metadata": {
    "colab_type": "text",
    "id": "tE2JckYR8e2f"
   },
   "source": [
    "# Bank Note Authentication"
   ]
  },
  {
   "cell_type": "markdown",
   "metadata": {
    "colab_type": "text",
    "id": "oV0hLHXh6_n5"
   },
   "source": [
    "## Importing Libraries"
   ]
  },
  {
   "cell_type": "code",
   "execution_count": 1,
   "metadata": {
    "colab": {},
    "colab_type": "code",
    "id": "jwTBnk2oL2Nd"
   },
   "outputs": [],
   "source": [
    "#Dataset handling\n",
    "import pandas as pd\n",
    "\n",
    "#Numpy operations\n",
    "import numpy as np\n",
    "\n",
    "#Graph plotting\n",
    "import matplotlib.pylab as plt\n",
    "import seaborn as sns"
   ]
  },
  {
   "cell_type": "markdown",
   "metadata": {
    "colab_type": "text",
    "id": "Qppk_GP17b4l"
   },
   "source": [
    "## Importing dataset"
   ]
  },
  {
   "cell_type": "markdown",
   "metadata": {
    "colab_type": "text",
    "id": "JD0BvY4-n6R7"
   },
   "source": [
    "***Reading dataset from csv file***"
   ]
  },
  {
   "cell_type": "code",
   "execution_count": 0,
   "metadata": {
    "colab": {},
    "colab_type": "code",
    "id": "Ffk1N8E5n5q6"
   },
   "outputs": [],
   "source": [
    "url='https://raw.githubusercontent.com/AnirbanMukherjeeXD/Explore-ML-Materials/master/datasets/Banknote_data.csv'\n",
    "dataset=pd.read_csv(url)"
   ]
  },
  {
   "cell_type": "markdown",
   "metadata": {
    "colab_type": "text",
    "id": "fxWdgL6woAQP"
   },
   "source": [
    "***Displaying first 5 rows***"
   ]
  },
  {
   "cell_type": "code",
   "execution_count": 0,
   "metadata": {
    "colab": {
     "base_uri": "https://localhost:8080/",
     "height": 204
    },
    "colab_type": "code",
    "id": "oW5lw4zaNlLC",
    "outputId": "e8c0e28e-b803-4218-9ba0-7c841f0ff4d0"
   },
   "outputs": [
    {
     "data": {
      "text/html": [
       "<div>\n",
       "<style scoped>\n",
       "    .dataframe tbody tr th:only-of-type {\n",
       "        vertical-align: middle;\n",
       "    }\n",
       "\n",
       "    .dataframe tbody tr th {\n",
       "        vertical-align: top;\n",
       "    }\n",
       "\n",
       "    .dataframe thead th {\n",
       "        text-align: right;\n",
       "    }\n",
       "</style>\n",
       "<table border=\"1\" class=\"dataframe\">\n",
       "  <thead>\n",
       "    <tr style=\"text-align: right;\">\n",
       "      <th></th>\n",
       "      <th>variance_wti</th>\n",
       "      <th>skewness_wti</th>\n",
       "      <th>curtosis_wti</th>\n",
       "      <th>entropy_wti</th>\n",
       "      <th>class</th>\n",
       "    </tr>\n",
       "  </thead>\n",
       "  <tbody>\n",
       "    <tr>\n",
       "      <th>0</th>\n",
       "      <td>3.62160</td>\n",
       "      <td>8.6661</td>\n",
       "      <td>-2.8073</td>\n",
       "      <td>-0.44699</td>\n",
       "      <td>0</td>\n",
       "    </tr>\n",
       "    <tr>\n",
       "      <th>1</th>\n",
       "      <td>4.54590</td>\n",
       "      <td>8.1674</td>\n",
       "      <td>-2.4586</td>\n",
       "      <td>-1.46210</td>\n",
       "      <td>0</td>\n",
       "    </tr>\n",
       "    <tr>\n",
       "      <th>2</th>\n",
       "      <td>3.86600</td>\n",
       "      <td>-2.6383</td>\n",
       "      <td>1.9242</td>\n",
       "      <td>0.10645</td>\n",
       "      <td>0</td>\n",
       "    </tr>\n",
       "    <tr>\n",
       "      <th>3</th>\n",
       "      <td>3.45660</td>\n",
       "      <td>9.5228</td>\n",
       "      <td>-4.0112</td>\n",
       "      <td>-3.59440</td>\n",
       "      <td>0</td>\n",
       "    </tr>\n",
       "    <tr>\n",
       "      <th>4</th>\n",
       "      <td>0.32924</td>\n",
       "      <td>-4.4552</td>\n",
       "      <td>4.5718</td>\n",
       "      <td>-0.98880</td>\n",
       "      <td>0</td>\n",
       "    </tr>\n",
       "  </tbody>\n",
       "</table>\n",
       "</div>"
      ],
      "text/plain": [
       "   variance_wti  skewness_wti  curtosis_wti  entropy_wti  class\n",
       "0       3.62160        8.6661       -2.8073     -0.44699      0\n",
       "1       4.54590        8.1674       -2.4586     -1.46210      0\n",
       "2       3.86600       -2.6383        1.9242      0.10645      0\n",
       "3       3.45660        9.5228       -4.0112     -3.59440      0\n",
       "4       0.32924       -4.4552        4.5718     -0.98880      0"
      ]
     },
     "execution_count": 3,
     "metadata": {
      "tags": []
     },
     "output_type": "execute_result"
    }
   ],
   "source": [
    "dataset.head()"
   ]
  },
  {
   "cell_type": "markdown",
   "metadata": {
    "colab_type": "text",
    "id": "WsVUA_Faq9fx"
   },
   "source": [
    "*Last column has the output (0 or 1). All remaining columns are inputs.*"
   ]
  },
  {
   "cell_type": "markdown",
   "metadata": {
    "colab_type": "text",
    "id": "-5trK7WCoFI5"
   },
   "source": [
    "***Seeing the class distribution***"
   ]
  },
  {
   "cell_type": "code",
   "execution_count": 0,
   "metadata": {
    "colab": {
     "base_uri": "https://localhost:8080/",
     "height": 300
    },
    "colab_type": "code",
    "id": "tgZCAOK_P7Us",
    "outputId": "27334b84-de07-4541-d538-e2828f05dab8"
   },
   "outputs": [
    {
     "data": {
      "text/plain": [
       "<matplotlib.axes._subplots.AxesSubplot at 0x7fb34b696a90>"
      ]
     },
     "execution_count": 4,
     "metadata": {
      "tags": []
     },
     "output_type": "execute_result"
    },
    {
     "data": {
      "image/png": "[encoded data removed]",
      "text/plain": [
       "<Figure size 432x288 with 1 Axes>"
      ]
     },
     "metadata": {
      "tags": []
     },
     "output_type": "display_data"
    }
   ],
   "source": [
    "sns.countplot(x=dataset.iloc[:,-1],data=dataset)"
   ]
  },
  {
   "cell_type": "markdown",
   "metadata": {
    "colab_type": "text",
    "id": "UJBOz-PknM5Z"
   },
   "source": [
    "## Data Preparation"
   ]
  },
  {
   "cell_type": "markdown",
   "metadata": {
    "colab_type": "text",
    "id": "Ya62skWonbcw"
   },
   "source": [
    "***Splitting into inputs (X) and outputs (Y)***"
   ]
  },
  {
   "cell_type": "code",
   "execution_count": 0,
   "metadata": {
    "colab": {},
    "colab_type": "code",
    "id": "pOntlawUnLB3"
   },
   "outputs": [],
   "source": [
    "#Inputs\n",
    "X=dataset.iloc[:,0:-1]\n",
    "\n",
    "#Outputs\n",
    "Y=dataset.iloc[:,-1]"
   ]
  },
  {
   "cell_type": "markdown",
   "metadata": {
    "colab_type": "text",
    "id": "tryXkaxD8N2g"
   },
   "source": [
    "***Splitting into train and test set***"
   ]
  },
  {
   "cell_type": "code",
   "execution_count": 0,
   "metadata": {
    "colab": {},
    "colab_type": "code",
    "id": "2b7X2MMasD9E"
   },
   "outputs": [],
   "source": [
    "#Importing module\n",
    "from sklearn.model_selection import train_test_split\n",
    "\n",
    "#Splitting\n",
    "X_train,X_test,Y_train,Y_test=train_test_split(X,Y,test_size=0.2,random_state=42)"
   ]
  },
  {
   "cell_type": "markdown",
   "metadata": {
    "colab_type": "text",
    "id": "FOEW9Nz5zTqo"
   },
   "source": [
    "***Feature Scaling***"
   ]
  },
  {
   "cell_type": "code",
   "execution_count": 0,
   "metadata": {
    "colab": {},
    "colab_type": "code",
    "id": "48d8ounnzIyr"
   },
   "outputs": [],
   "source": [
    "#Importing module\n",
    "from sklearn.preprocessing import StandardScaler\n",
    "\n",
    "#Crearing scaler object\n",
    "scaler = StandardScaler()\n",
    "\n",
    "#Transforming X\n",
    "X_train = scaler.fit_transform(X_train)\n",
    "X_test = scaler.transform(X_test)"
   ]
  },
  {
   "cell_type": "markdown",
   "metadata": {
    "colab_type": "text",
    "id": "SED3ARDYsdKl"
   },
   "source": [
    "## Model"
   ]
  },
  {
   "cell_type": "markdown",
   "metadata": {
    "colab_type": "text",
    "id": "TQdJWQfbtqhv"
   },
   "source": [
    "**Create model**"
   ]
  },
  {
   "cell_type": "code",
   "execution_count": 0,
   "metadata": {
    "colab": {},
    "colab_type": "code",
    "id": "ROKcsjCdsb4J"
   },
   "outputs": [],
   "source": [
    "#Importing module\n",
    "from sklearn.svm import SVC\n",
    "\n",
    "#Creaing model object\n",
    "model=SVC(kernel='linear')"
   ]
  },
  {
   "cell_type": "markdown",
   "metadata": {
    "colab_type": "text",
    "id": "0sUjFPYPtFVZ"
   },
   "source": [
    "**Train model**"
   ]
  },
  {
   "cell_type": "code",
   "execution_count": 0,
   "metadata": {
    "colab": {
     "base_uri": "https://localhost:8080/",
     "height": 85
    },
    "colab_type": "code",
    "id": "Otdb3KABtpdD",
    "outputId": "def53d95-3f2d-4ec9-c934-008db6c51b62"
   },
   "outputs": [
    {
     "data": {
      "text/plain": [
       "SVC(C=1.0, cache_size=200, class_weight=None, coef0=0.0,\n",
       "    decision_function_shape='ovr', degree=3, gamma='auto_deprecated',\n",
       "    kernel='linear', max_iter=-1, probability=False, random_state=None,\n",
       "    shrinking=True, tol=0.001, verbose=False)"
      ]
     },
     "execution_count": 11,
     "metadata": {
      "tags": []
     },
     "output_type": "execute_result"
    }
   ],
   "source": [
    "model.fit(X_train,Y_train)"
   ]
  },
  {
   "cell_type": "markdown",
   "metadata": {
    "colab_type": "text",
    "id": "u4qNCDgV8TQZ"
   },
   "source": [
    "**Make predictions using model and evaluate result**"
   ]
  },
  {
   "cell_type": "code",
   "execution_count": 0,
   "metadata": {
    "colab": {},
    "colab_type": "code",
    "id": "H3Vg9_sKv6UA"
   },
   "outputs": [],
   "source": [
    "#Importing modules for metrics\n",
    "from sklearn.metrics import accuracy_score,confusion_matrix"
   ]
  },
  {
   "cell_type": "code",
   "execution_count": 0,
   "metadata": {
    "colab": {
     "base_uri": "https://localhost:8080/",
     "height": 34
    },
    "colab_type": "code",
    "id": "lcIYSe-z6p3e",
    "outputId": "278ae9bf-2a6d-4962-82a8-1c90c8e3a2e3"
   },
   "outputs": [
    {
     "name": "stdout",
     "output_type": "stream",
     "text": [
      "0.9881494986326345\n"
     ]
    }
   ],
   "source": [
    "#Training set predictions\n",
    "Y_train_pred=model.predict(X_train)\n",
    "print(accuracy_score(Y_train,Y_train_pred))"
   ]
  },
  {
   "cell_type": "code",
   "execution_count": 0,
   "metadata": {
    "colab": {
     "base_uri": "https://localhost:8080/",
     "height": 34
    },
    "colab_type": "code",
    "id": "W7xYaj7xwZ9A",
    "outputId": "179a4b7e-e7b8-4b44-e42a-aebaea9664b7"
   },
   "outputs": [
    {
     "name": "stdout",
     "output_type": "stream",
     "text": [
      "0.9854545454545455\n"
     ]
    }
   ],
   "source": [
    "#Test set predictions\n",
    "Y_test_pred=model.predict(X_test)\n",
    "print(accuracy_score(Y_test,Y_test_pred))"
   ]
  },
  {
   "cell_type": "markdown",
   "metadata": {
    "colab_type": "text",
    "id": "zQy3CqBEcWV9"
   },
   "source": [
    "**Confusion Matrix**"
   ]
  },
  {
   "cell_type": "markdown",
   "metadata": {
    "colab_type": "text",
    "id": "D6LDKdAGyQni"
   },
   "source": [
    "*By definition a confusion matrix `C` is such that `C[i, j]` is equal to the number of observations known to be in group `i` but predicted to be in group `j`*"
   ]
  },
  {
   "cell_type": "code",
   "execution_count": 0,
   "metadata": {
    "colab": {
     "base_uri": "https://localhost:8080/",
     "height": 51
    },
    "colab_type": "code",
    "id": "bhZbBJ0cw44i",
    "outputId": "571f7972-7727-452e-b525-ad10e50310a1"
   },
   "outputs": [
    {
     "name": "stdout",
     "output_type": "stream",
     "text": [
      "[[601  13]\n",
      " [  0 483]]\n"
     ]
    }
   ],
   "source": [
    "#Training set\n",
    "print(confusion_matrix(Y_train,Y_train_pred))"
   ]
  },
  {
   "cell_type": "markdown",
   "metadata": {
    "colab_type": "text",
    "id": "NkMxHIA9qmGh"
   },
   "source": [
    "![](https://miro.medium.com/max/765/1*OWyKjukGGKCvrnE30763qA.png)"
   ]
  },
  {
   "cell_type": "code",
   "execution_count": 0,
   "metadata": {
    "colab": {
     "base_uri": "https://localhost:8080/",
     "height": 51
    },
    "colab_type": "code",
    "id": "cZ-7Nbh7b4zZ",
    "outputId": "354b95fc-6fab-43c0-96f8-539ad0664186"
   },
   "outputs": [
    {
     "name": "stdout",
     "output_type": "stream",
     "text": [
      "[[146   2]\n",
      " [  2 125]]\n"
     ]
    }
   ],
   "source": [
    "#Test setconfusion_matrixconfusion_matrix\n",
    "print(confusion_matrix(Y_test,Y_test_pred))"
   ]
  }
 ],
 "metadata": {
  "colab": {
   "collapsed_sections": [
    "oV0hLHXh6_n5",
    "Qppk_GP17b4l",
    "UJBOz-PknM5Z",
    "SED3ARDYsdKl"
   ],
   "include_colab_link": true,
   "name": "ExploreML-BanknoteAuthentication.ipynb",
   "provenance": []
  },
  "kernelspec": {
   "display_name": "Python 3",
   "language": "python",
   "name": "python3"
  },
  "language_info": {
   "codemirror_mode": {
    "name": "ipython",
    "version": 3
   },
   "file_extension": ".py",
   "mimetype": "text/x-python",
   "name": "python",
   "nbconvert_exporter": "python",
   "pygments_lexer": "ipython3",
   "version": "3.7.1"
  }
 },
 "nbformat": 4,
 "nbformat_minor": 1
}
