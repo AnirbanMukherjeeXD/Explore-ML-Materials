{
  "nbformat": 4,
  "nbformat_minor": 0,
  "metadata": {
    "colab": {
      "name": "ExploreML-SalaryPrediction.ipynb",
      "provenance": [],
      "collapsed_sections": [
        "oV0hLHXh6_n5",
        "Qppk_GP17b4l",
        "UJBOz-PknM5Z",
        "SED3ARDYsdKl",
        "6eqJW1iPCrQz"
      ],
      "include_colab_link": true
    },
    "kernelspec": {
      "name": "python3",
      "display_name": "Python 3"
    }
  },
  "cells": [
    {
      "cell_type": "markdown",
      "metadata": {
        "id": "view-in-github",
        "colab_type": "text"
      },
      "source": [
        "<a href=\"https://colab.research.google.com/github/AnirbanMukherjeeXD/Explore-ML-Materials/blob/master/ExploreML_SalaryPrediction.ipynb\" target=\"_parent\"><img src=\"https://colab.research.google.com/assets/colab-badge.svg\" alt=\"Open In Colab\"/></a>"
      ]
    },
    {
      "cell_type": "markdown",
      "metadata": {
        "id": "tE2JckYR8e2f",
        "colab_type": "text"
      },
      "source": [
        "# Salary Prediction"
      ]
    },
    {
      "cell_type": "markdown",
      "metadata": {
        "id": "oV0hLHXh6_n5",
        "colab_type": "text"
      },
      "source": [
        "##Importing Libraries"
      ]
    },
    {
      "cell_type": "code",
      "metadata": {
        "id": "jwTBnk2oL2Nd",
        "colab_type": "code",
        "colab": {}
      },
      "source": [
        "#Dataset handling\n",
        "import pandas as pd\n",
        "\n",
        "#Numpy operations\n",
        "import numpy as np\n",
        "\n",
        "#Graph plotting\n",
        "import matplotlib.pylab as plt\n",
        "import seaborn as sns"
      ],
      "execution_count": 0,
      "outputs": []
    },
    {
      "cell_type": "markdown",
      "metadata": {
        "id": "Qppk_GP17b4l",
        "colab_type": "text"
      },
      "source": [
        "##Importing dataset"
      ]
    },
    {
      "cell_type": "markdown",
      "metadata": {
        "id": "JD0BvY4-n6R7",
        "colab_type": "text"
      },
      "source": [
        "***Reading dataset from csv file***"
      ]
    },
    {
      "cell_type": "code",
      "metadata": {
        "id": "Ffk1N8E5n5q6",
        "colab_type": "code",
        "colab": {}
      },
      "source": [
        "url='https://raw.githubusercontent.com/AnirbanMukherjeeXD/Explore-ML-Materials/master/datasets/Salary_Data.csv'\n",
        "dataset=pd.read_csv(url)"
      ],
      "execution_count": 0,
      "outputs": []
    },
    {
      "cell_type": "markdown",
      "metadata": {
        "id": "fxWdgL6woAQP",
        "colab_type": "text"
      },
      "source": [
        "***Displaying first 5 rows***"
      ]
    },
    {
      "cell_type": "code",
      "metadata": {
        "id": "oW5lw4zaNlLC",
        "colab_type": "code",
        "outputId": "e99f8f8e-fa1e-44d3-f247-be468afb8e62",
        "colab": {
          "base_uri": "https://localhost:8080/",
          "height": 204
        }
      },
      "source": [
        "dataset.head()"
      ],
      "execution_count": 0,
      "outputs": [
        {
          "output_type": "execute_result",
          "data": {
            "text/html": [
              "<div>\n",
              "<style scoped>\n",
              "    .dataframe tbody tr th:only-of-type {\n",
              "        vertical-align: middle;\n",
              "    }\n",
              "\n",
              "    .dataframe tbody tr th {\n",
              "        vertical-align: top;\n",
              "    }\n",
              "\n",
              "    .dataframe thead th {\n",
              "        text-align: right;\n",
              "    }\n",
              "</style>\n",
              "<table border=\"1\" class=\"dataframe\">\n",
              "  <thead>\n",
              "    <tr style=\"text-align: right;\">\n",
              "      <th></th>\n",
              "      <th>YearsExperience</th>\n",
              "      <th>Salary</th>\n",
              "    </tr>\n",
              "  </thead>\n",
              "  <tbody>\n",
              "    <tr>\n",
              "      <th>0</th>\n",
              "      <td>1.1</td>\n",
              "      <td>39343.0</td>\n",
              "    </tr>\n",
              "    <tr>\n",
              "      <th>1</th>\n",
              "      <td>1.3</td>\n",
              "      <td>46205.0</td>\n",
              "    </tr>\n",
              "    <tr>\n",
              "      <th>2</th>\n",
              "      <td>1.5</td>\n",
              "      <td>37731.0</td>\n",
              "    </tr>\n",
              "    <tr>\n",
              "      <th>3</th>\n",
              "      <td>2.0</td>\n",
              "      <td>43525.0</td>\n",
              "    </tr>\n",
              "    <tr>\n",
              "      <th>4</th>\n",
              "      <td>2.2</td>\n",
              "      <td>39891.0</td>\n",
              "    </tr>\n",
              "  </tbody>\n",
              "</table>\n",
              "</div>"
            ],
            "text/plain": [
              "   YearsExperience   Salary\n",
              "0              1.1  39343.0\n",
              "1              1.3  46205.0\n",
              "2              1.5  37731.0\n",
              "3              2.0  43525.0\n",
              "4              2.2  39891.0"
            ]
          },
          "metadata": {
            "tags": []
          },
          "execution_count": 5
        }
      ]
    },
    {
      "cell_type": "markdown",
      "metadata": {
        "id": "WsVUA_Faq9fx",
        "colab_type": "text"
      },
      "source": [
        "*Last column has the output (0 or 1). All remaining columns are inputs.*"
      ]
    },
    {
      "cell_type": "markdown",
      "metadata": {
        "id": "UJBOz-PknM5Z",
        "colab_type": "text"
      },
      "source": [
        "##Data Preparation"
      ]
    },
    {
      "cell_type": "markdown",
      "metadata": {
        "id": "Ya62skWonbcw",
        "colab_type": "text"
      },
      "source": [
        "***Splitting into inputs (X) and outputs (Y)***"
      ]
    },
    {
      "cell_type": "code",
      "metadata": {
        "id": "pOntlawUnLB3",
        "colab_type": "code",
        "colab": {}
      },
      "source": [
        "#Inputs\n",
        "X=dataset.iloc[:,0:1]\n",
        "\n",
        "#Outputs\n",
        "Y=dataset.iloc[:,-1]"
      ],
      "execution_count": 0,
      "outputs": []
    },
    {
      "cell_type": "markdown",
      "metadata": {
        "id": "tryXkaxD8N2g",
        "colab_type": "text"
      },
      "source": [
        "***Splitting into train and test set***"
      ]
    },
    {
      "cell_type": "code",
      "metadata": {
        "id": "2b7X2MMasD9E",
        "colab_type": "code",
        "colab": {}
      },
      "source": [
        "#Importing module\n",
        "from sklearn.model_selection import train_test_split\n",
        "\n",
        "#Splitting\n",
        "X_train,X_test,Y_train,Y_test=train_test_split(X,Y,test_size=0.2,random_state=42)"
      ],
      "execution_count": 0,
      "outputs": []
    },
    {
      "cell_type": "markdown",
      "metadata": {
        "id": "SED3ARDYsdKl",
        "colab_type": "text"
      },
      "source": [
        "##Model"
      ]
    },
    {
      "cell_type": "markdown",
      "metadata": {
        "id": "TQdJWQfbtqhv",
        "colab_type": "text"
      },
      "source": [
        "**Create model**"
      ]
    },
    {
      "cell_type": "code",
      "metadata": {
        "id": "ROKcsjCdsb4J",
        "colab_type": "code",
        "colab": {}
      },
      "source": [
        "#Importing module\n",
        "from sklearn.linear_model import LinearRegression\n",
        "\n",
        "#Creaing model object\n",
        "model=LinearRegression()"
      ],
      "execution_count": 0,
      "outputs": []
    },
    {
      "cell_type": "markdown",
      "metadata": {
        "id": "0sUjFPYPtFVZ",
        "colab_type": "text"
      },
      "source": [
        "**Train model**"
      ]
    },
    {
      "cell_type": "code",
      "metadata": {
        "id": "Otdb3KABtpdD",
        "colab_type": "code",
        "outputId": "30bc4a82-9cc2-427f-c1cf-7efa9ecae297",
        "colab": {
          "base_uri": "https://localhost:8080/",
          "height": 34
        }
      },
      "source": [
        "model.fit(X_train,Y_train)"
      ],
      "execution_count": 0,
      "outputs": [
        {
          "output_type": "execute_result",
          "data": {
            "text/plain": [
              "LinearRegression(copy_X=True, fit_intercept=True, n_jobs=None, normalize=False)"
            ]
          },
          "metadata": {
            "tags": []
          },
          "execution_count": 9
        }
      ]
    },
    {
      "cell_type": "markdown",
      "metadata": {
        "id": "zQy3CqBEcWV9",
        "colab_type": "text"
      },
      "source": [
        "**Predicting result**"
      ]
    },
    {
      "cell_type": "code",
      "metadata": {
        "id": "kZzEhDgsCTNp",
        "colab_type": "code",
        "colab": {}
      },
      "source": [
        "Y_train_pred=model.predict(X_train)\n",
        "Y_test_pred=model.predict(X_test)"
      ],
      "execution_count": 0,
      "outputs": []
    },
    {
      "cell_type": "markdown",
      "metadata": {
        "id": "6eqJW1iPCrQz",
        "colab_type": "text"
      },
      "source": [
        "##Visualizing Predictions"
      ]
    },
    {
      "cell_type": "markdown",
      "metadata": {
        "id": "OuBlGtZ2C302",
        "colab_type": "text"
      },
      "source": [
        "**Training Set**"
      ]
    },
    {
      "cell_type": "code",
      "metadata": {
        "colab_type": "code",
        "id": "5fmCUmT78ONM",
        "outputId": "20a5217e-75dd-491f-cea7-1c1dc6780de2",
        "colab": {
          "base_uri": "https://localhost:8080/",
          "height": 283
        }
      },
      "source": [
        "plt.plot(X_train,Y_train_pred)\n",
        "plt.scatter(X_train,Y_train)\n",
        "plt.legend(['Predicted','Actual Points'])\n",
        "plt.xlabel(\"Years of experience\")\n",
        "plt.ylabel(\"Salary\")\n",
        "plt.show()"
      ],
      "execution_count": 0,
      "outputs": [
        {
          "output_type": "display_data",
          "data": {
            "image/png": "[encoded data removed]",
            "text/plain": [
              "<Figure size 432x288 with 1 Axes>"
            ]
          },
          "metadata": {
            "tags": []
          }
        }
      ]
    },
    {
      "cell_type": "markdown",
      "metadata": {
        "colab_type": "text",
        "id": "QD5y44ZsFVYx"
      },
      "source": [
        "**Test Set**"
      ]
    },
    {
      "cell_type": "code",
      "metadata": {
        "colab_type": "code",
        "id": "4GWc3sPZFVY9",
        "outputId": "1bbc381f-2490-4c31-9ffa-2f25eba6bf90",
        "colab": {
          "base_uri": "https://localhost:8080/",
          "height": 283
        }
      },
      "source": [
        "plt.plot(X_test,Y_test_pred)\n",
        "plt.scatter(X_test,Y_test)\n",
        "plt.legend(['Predicted','Actual Points'])\n",
        "plt.xlabel(\"Years of experience\")\n",
        "plt.ylabel(\"Salary\")\n",
        "plt.show()"
      ],
      "execution_count": 0,
      "outputs": [
        {
          "output_type": "display_data",
          "data": {
            "image/png": "[encoded data removed]",
            "text/plain": [
              "<Figure size 432x288 with 1 Axes>"
            ]
          },
          "metadata": {
            "tags": []
          }
        }
      ]
    }
  ]
}